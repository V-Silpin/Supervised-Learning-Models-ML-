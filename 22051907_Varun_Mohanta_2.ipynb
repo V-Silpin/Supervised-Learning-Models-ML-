{
 "cells": [
  {
   "cell_type": "code",
   "execution_count": 1,
   "id": "414ae7fa-7e8f-4dd6-8828-35052e3311b1",
   "metadata": {
    "tags": []
   },
   "outputs": [],
   "source": [
    "import pandas as pd\n",
    "import numpy as np\n",
    "import matplotlib as plt"
   ]
  },
  {
   "cell_type": "code",
   "execution_count": 2,
   "id": "a2c68c11-89be-4390-8062-74d6b342fc87",
   "metadata": {
    "tags": []
   },
   "outputs": [],
   "source": [
    "df=pd.read_csv(\"train.csv\")"
   ]
  },
  {
   "cell_type": "code",
   "execution_count": 3,
   "id": "7aaf13b1-dfff-49be-bfd1-b59b2d5671ad",
   "metadata": {
    "tags": []
   },
   "outputs": [
    {
     "name": "stdout",
     "output_type": "stream",
     "text": [
      "  PassengerId HomePlanet CryoSleep  Cabin  Destination   Age    VIP  \\\n",
      "0     0001_01     Europa     False  B/0/P  TRAPPIST-1e  39.0  False   \n",
      "1     0002_01      Earth     False  F/0/S  TRAPPIST-1e  24.0  False   \n",
      "2     0003_01     Europa     False  A/0/S  TRAPPIST-1e  58.0   True   \n",
      "3     0003_02     Europa     False  A/0/S  TRAPPIST-1e  33.0  False   \n",
      "4     0004_01      Earth     False  F/1/S  TRAPPIST-1e  16.0  False   \n",
      "\n",
      "   RoomService  FoodCourt  ShoppingMall     Spa  VRDeck               Name  \\\n",
      "0          0.0        0.0           0.0     0.0     0.0    Maham Ofracculy   \n",
      "1        109.0        9.0          25.0   549.0    44.0       Juanna Vines   \n",
      "2         43.0     3576.0           0.0  6715.0    49.0      Altark Susent   \n",
      "3          0.0     1283.0         371.0  3329.0   193.0       Solam Susent   \n",
      "4        303.0       70.0         151.0   565.0     2.0  Willy Santantines   \n",
      "\n",
      "   Transported  \n",
      "0        False  \n",
      "1         True  \n",
      "2        False  \n",
      "3        False  \n",
      "4         True  \n",
      "     PassengerId HomePlanet CryoSleep     Cabin    Destination   Age    VIP  \\\n",
      "8688     9276_01     Europa     False    A/98/P    55 Cancri e  41.0   True   \n",
      "8689     9278_01      Earth      True  G/1499/S  PSO J318.5-22  18.0  False   \n",
      "8690     9279_01      Earth     False  G/1500/S    TRAPPIST-1e  26.0  False   \n",
      "8691     9280_01     Europa     False   E/608/S    55 Cancri e  32.0  False   \n",
      "8692     9280_02     Europa     False   E/608/S    TRAPPIST-1e  44.0  False   \n",
      "\n",
      "      RoomService  FoodCourt  ShoppingMall     Spa  VRDeck               Name  \\\n",
      "8688          0.0     6819.0           0.0  1643.0    74.0  Gravior Noxnuther   \n",
      "8689          0.0        0.0           0.0     0.0     0.0    Kurta Mondalley   \n",
      "8690          0.0        0.0        1872.0     1.0     0.0       Fayey Connon   \n",
      "8691          0.0     1049.0           0.0   353.0  3235.0   Celeon Hontichre   \n",
      "8692        126.0     4688.0           0.0     0.0    12.0   Propsh Hontichre   \n",
      "\n",
      "      Transported  \n",
      "8688        False  \n",
      "8689        False  \n",
      "8690         True  \n",
      "8691        False  \n",
      "8692         True  \n"
     ]
    }
   ],
   "source": [
    "print(df.head(5))\n",
    "print(df.tail(5))"
   ]
  },
  {
   "cell_type": "code",
   "execution_count": 4,
   "id": "f3fe5ee5-2fce-429c-882d-1ece59133289",
   "metadata": {
    "tags": []
   },
   "outputs": [
    {
     "name": "stdout",
     "output_type": "stream",
     "text": [
      "               Age   RoomService     FoodCourt  ShoppingMall           Spa  \\\n",
      "count  8514.000000   8512.000000   8510.000000   8485.000000   8510.000000   \n",
      "mean     28.827930    224.687617    458.077203    173.729169    311.138778   \n",
      "std      14.489021    666.717663   1611.489240    604.696458   1136.705535   \n",
      "min       0.000000      0.000000      0.000000      0.000000      0.000000   \n",
      "25%      19.000000      0.000000      0.000000      0.000000      0.000000   \n",
      "50%      27.000000      0.000000      0.000000      0.000000      0.000000   \n",
      "75%      38.000000     47.000000     76.000000     27.000000     59.000000   \n",
      "max      79.000000  14327.000000  29813.000000  23492.000000  22408.000000   \n",
      "\n",
      "             VRDeck  \n",
      "count   8505.000000  \n",
      "mean     304.854791  \n",
      "std     1145.717189  \n",
      "min        0.000000  \n",
      "25%        0.000000  \n",
      "50%        0.000000  \n",
      "75%       46.000000  \n",
      "max    24133.000000  \n"
     ]
    }
   ],
   "source": [
    "print(df.describe())"
   ]
  },
  {
   "cell_type": "code",
   "execution_count": 5,
   "id": "b95e4f6f-c098-4203-9fdd-7a3afe5f39a6",
   "metadata": {
    "tags": []
   },
   "outputs": [
    {
     "data": {
      "text/plain": [
       "PassengerId       0\n",
       "HomePlanet      201\n",
       "CryoSleep       217\n",
       "Cabin           199\n",
       "Destination     182\n",
       "Age             179\n",
       "VIP             203\n",
       "RoomService     181\n",
       "FoodCourt       183\n",
       "ShoppingMall    208\n",
       "Spa             183\n",
       "VRDeck          188\n",
       "Name            200\n",
       "Transported       0\n",
       "dtype: int64"
      ]
     },
     "execution_count": 5,
     "metadata": {},
     "output_type": "execute_result"
    }
   ],
   "source": [
    "df.isnull().sum()"
   ]
  },
  {
   "cell_type": "code",
   "execution_count": 6,
   "id": "19728362-b546-4db5-bb82-ea6f5d252acb",
   "metadata": {
    "tags": []
   },
   "outputs": [
    {
     "name": "stdout",
     "output_type": "stream",
     "text": [
      "    Age  RoomService  FoodCourt  ShoppingMall     Spa  VRDeck\n",
      "0  39.0          0.0        0.0           0.0     0.0     0.0\n",
      "1  24.0        109.0        9.0          25.0   549.0    44.0\n",
      "2  58.0         43.0     3576.0           0.0  6715.0    49.0\n",
      "3  33.0          0.0     1283.0         371.0  3329.0   193.0\n",
      "4  16.0        303.0       70.0         151.0   565.0     2.0\n",
      "5  44.0          0.0      483.0           0.0   291.0     0.0\n",
      "6  26.0         42.0     1539.0           3.0     0.0     0.0\n",
      "7  28.0          0.0        0.0           0.0     0.0     NaN\n",
      "8  35.0          0.0      785.0          17.0   216.0     0.0\n",
      "9  14.0          0.0        0.0           0.0     0.0     0.0\n"
     ]
    }
   ],
   "source": [
    "for i in df.select_dtypes([\"object\",\"bool\"]):\n",
    "    df.pop(i)\n",
    "print(df.head(10))"
   ]
  },
  {
   "cell_type": "code",
   "execution_count": 7,
   "id": "8abf9e79-df8e-467d-92c0-db8c990d66ee",
   "metadata": {
    "tags": []
   },
   "outputs": [
    {
     "name": "stdout",
     "output_type": "stream",
     "text": [
      "<class 'pandas.core.frame.DataFrame'>\n",
      "RangeIndex: 8693 entries, 0 to 8692\n",
      "Data columns (total 6 columns):\n",
      " #   Column        Non-Null Count  Dtype  \n",
      "---  ------        --------------  -----  \n",
      " 0   Age           8514 non-null   float64\n",
      " 1   RoomService   8512 non-null   float64\n",
      " 2   FoodCourt     8510 non-null   float64\n",
      " 3   ShoppingMall  8485 non-null   float64\n",
      " 4   Spa           8510 non-null   float64\n",
      " 5   VRDeck        8505 non-null   float64\n",
      "dtypes: float64(6)\n",
      "memory usage: 407.6 KB\n",
      "None\n"
     ]
    }
   ],
   "source": [
    "print(df.info())"
   ]
  },
  {
   "cell_type": "code",
   "execution_count": 8,
   "id": "b84af993-1061-4583-9745-043ff79d28c0",
   "metadata": {
    "tags": []
   },
   "outputs": [
    {
     "name": "stdout",
     "output_type": "stream",
     "text": [
      "       Age  RoomService  FoodCourt  ShoppingMall     Spa  VRDeck\n",
      "118   67.0          0.0        0.0           0.0     0.0     0.0\n",
      "280   67.0          NaN      230.0           0.0  4476.0   241.0\n",
      "338   79.0       5649.0      235.0           7.0  2579.0  2175.0\n",
      "378   68.0          0.0        0.0           0.0     0.0     0.0\n",
      "416   74.0          0.0        0.0           0.0     0.0     0.0\n",
      "...    ...          ...        ...           ...     ...     ...\n",
      "7729  72.0        309.0        0.0           0.0     0.0   463.0\n",
      "8042  67.0          0.0       82.0           0.0  2279.0   293.0\n",
      "8288  76.0          0.0        0.0           0.0     0.0     0.0\n",
      "8369  73.0       1806.0        0.0          47.0     0.0     0.0\n",
      "8516  70.0          0.0     2113.0           0.0  1972.0    51.0\n",
      "\n",
      "[77 rows x 6 columns]\n",
      "       Age  RoomService  FoodCourt  ShoppingMall    Spa  VRDeck\n",
      "4     16.0        303.0       70.0         151.0  565.0     2.0\n",
      "13    48.0        719.0        1.0          65.0    0.0    24.0\n",
      "16    27.0       1286.0      122.0           NaN    0.0     0.0\n",
      "20    14.0        412.0        0.0           1.0    0.0   679.0\n",
      "27    21.0        980.0        2.0          69.0    0.0     0.0\n",
      "...    ...          ...        ...           ...    ...     ...\n",
      "8646  22.0        676.0        0.0          13.0    0.0    12.0\n",
      "8661  30.0        699.0        0.0         600.0    0.0     0.0\n",
      "8675  44.0       1030.0     1015.0           0.0   11.0     NaN\n",
      "8682  26.0        240.0      242.0         510.0    0.0     0.0\n",
      "8692  44.0        126.0     4688.0           0.0    0.0    12.0\n",
      "\n",
      "[1861 rows x 6 columns]\n",
      "       Age  RoomService  FoodCourt  ShoppingMall     Spa  VRDeck\n",
      "2     58.0         43.0     3576.0           0.0  6715.0    49.0\n",
      "3     33.0          0.0     1283.0         371.0  3329.0   193.0\n",
      "5     44.0          0.0      483.0           0.0   291.0     0.0\n",
      "6     26.0         42.0     1539.0           3.0     0.0     0.0\n",
      "8     35.0          0.0      785.0          17.0   216.0     0.0\n",
      "...    ...          ...        ...           ...     ...     ...\n",
      "8686  32.0          1.0     1146.0           0.0    50.0    34.0\n",
      "8687  30.0          0.0     3208.0           0.0     2.0   330.0\n",
      "8688  41.0          0.0     6819.0           0.0  1643.0    74.0\n",
      "8691  32.0          0.0     1049.0           0.0   353.0  3235.0\n",
      "8692  44.0        126.0     4688.0           0.0     0.0    12.0\n",
      "\n",
      "[1823 rows x 6 columns]\n",
      "       Age  RoomService  FoodCourt  ShoppingMall     Spa  VRDeck\n",
      "3     33.0          0.0     1283.0         371.0  3329.0   193.0\n",
      "4     16.0        303.0       70.0         151.0   565.0     2.0\n",
      "11    45.0         39.0     7295.0         589.0   110.0   124.0\n",
      "12    32.0         73.0        0.0        1123.0     0.0   113.0\n",
      "15    31.0         32.0        0.0         876.0     0.0     0.0\n",
      "...    ...          ...        ...           ...     ...     ...\n",
      "8669  26.0          0.0     8160.0         205.0     0.0   438.0\n",
      "8674  13.0         39.0        0.0        1085.0    24.0     0.0\n",
      "8682  26.0        240.0      242.0         510.0     0.0     0.0\n",
      "8683  21.0         86.0        3.0         149.0   208.0   329.0\n",
      "8690  26.0          0.0        0.0        1872.0     1.0     0.0\n",
      "\n",
      "[1829 rows x 6 columns]\n",
      "       Age  RoomService  FoodCourt  ShoppingMall     Spa  VRDeck\n",
      "1     24.0        109.0        9.0          25.0   549.0    44.0\n",
      "2     58.0         43.0     3576.0           0.0  6715.0    49.0\n",
      "3     33.0          0.0     1283.0         371.0  3329.0   193.0\n",
      "4     16.0        303.0       70.0         151.0   565.0     2.0\n",
      "5     44.0          0.0      483.0           0.0   291.0     0.0\n",
      "...    ...          ...        ...           ...     ...     ...\n",
      "8657  49.0          6.0        1.0         638.0  1107.0    23.0\n",
      "8666  38.0         28.0     1208.0         973.0   207.0     0.0\n",
      "8683  21.0         86.0        3.0         149.0   208.0   329.0\n",
      "8688  41.0          0.0     6819.0           0.0  1643.0    74.0\n",
      "8691  32.0          0.0     1049.0           0.0   353.0  3235.0\n",
      "\n",
      "[1788 rows x 6 columns]\n",
      "       Age  RoomService  FoodCourt  ShoppingMall     Spa  VRDeck\n",
      "3     33.0          0.0     1283.0         371.0  3329.0   193.0\n",
      "11    45.0         39.0     7295.0         589.0   110.0   124.0\n",
      "17    24.0          0.0        1.0           0.0     0.0   637.0\n",
      "20    14.0        412.0        0.0           1.0     0.0   679.0\n",
      "30    34.0         22.0     6073.0           0.0  1438.0   328.0\n",
      "...    ...          ...        ...           ...     ...     ...\n",
      "8667  29.0          0.0     2972.0           NaN    28.0   188.0\n",
      "8669  26.0          0.0     8160.0         205.0     0.0   438.0\n",
      "8683  21.0         86.0        3.0         149.0   208.0   329.0\n",
      "8687  30.0          0.0     3208.0           0.0     2.0   330.0\n",
      "8691  32.0          0.0     1049.0           0.0   353.0  3235.0\n",
      "\n",
      "[1809 rows x 6 columns]\n"
     ]
    }
   ],
   "source": [
    "for i in df.select_dtypes([\"float64\"]):\n",
    "    iqr = df[i].quantile(0.75) - df[i].quantile(0.25)\n",
    "    l_b = df[i].quantile(0.25) - 1.5 * iqr\n",
    "    u_b = df[i].quantile(0.75) + 1.5 * iqr\n",
    "    outliers = df[(df[i] < l_b) | (df[i] > u_b)]\n",
    "    print(outliers)"
   ]
  },
  {
   "cell_type": "code",
   "execution_count": 9,
   "id": "89bd73cd-d99a-4b8c-bd96-e9f1ee364ff9",
   "metadata": {},
   "outputs": [],
   "source": [
    "for i in df.select_dtypes([\"object\",\"bool\"]):\n",
    "    median = df[i].median()\n",
    "    Q1 = df[i].quantile(0.25)\n",
    "    Q3 = df[i].quantile(0.75)\n",
    "    IQR = Q3 - Q1\n",
    "\n",
    "    lower_bound = Q1 - 1.5 * IQR\n",
    "    upper_bound = Q3 + 1.5 * IQR\n",
    "\n",
    "   \n",
    "    df[i]= np.where((df[i] < lower_bound) | (df[i] > upper_bound), median, df[i])"
   ]
  },
  {
   "cell_type": "code",
   "execution_count": 10,
   "id": "33e442bd",
   "metadata": {},
   "outputs": [
    {
     "data": {
      "text/html": [
       "<div>\n",
       "<style scoped>\n",
       "    .dataframe tbody tr th:only-of-type {\n",
       "        vertical-align: middle;\n",
       "    }\n",
       "\n",
       "    .dataframe tbody tr th {\n",
       "        vertical-align: top;\n",
       "    }\n",
       "\n",
       "    .dataframe thead th {\n",
       "        text-align: right;\n",
       "    }\n",
       "</style>\n",
       "<table border=\"1\" class=\"dataframe\">\n",
       "  <thead>\n",
       "    <tr style=\"text-align: right;\">\n",
       "      <th></th>\n",
       "      <th>Age</th>\n",
       "      <th>RoomService</th>\n",
       "      <th>FoodCourt</th>\n",
       "      <th>ShoppingMall</th>\n",
       "      <th>Spa</th>\n",
       "      <th>VRDeck</th>\n",
       "    </tr>\n",
       "  </thead>\n",
       "  <tbody>\n",
       "    <tr>\n",
       "      <th>0</th>\n",
       "      <td>39.0</td>\n",
       "      <td>0.0</td>\n",
       "      <td>0.0</td>\n",
       "      <td>0.0</td>\n",
       "      <td>0.0</td>\n",
       "      <td>0.0</td>\n",
       "    </tr>\n",
       "    <tr>\n",
       "      <th>1</th>\n",
       "      <td>24.0</td>\n",
       "      <td>109.0</td>\n",
       "      <td>9.0</td>\n",
       "      <td>25.0</td>\n",
       "      <td>549.0</td>\n",
       "      <td>44.0</td>\n",
       "    </tr>\n",
       "    <tr>\n",
       "      <th>2</th>\n",
       "      <td>58.0</td>\n",
       "      <td>43.0</td>\n",
       "      <td>3576.0</td>\n",
       "      <td>0.0</td>\n",
       "      <td>6715.0</td>\n",
       "      <td>49.0</td>\n",
       "    </tr>\n",
       "    <tr>\n",
       "      <th>3</th>\n",
       "      <td>33.0</td>\n",
       "      <td>0.0</td>\n",
       "      <td>1283.0</td>\n",
       "      <td>371.0</td>\n",
       "      <td>3329.0</td>\n",
       "      <td>193.0</td>\n",
       "    </tr>\n",
       "    <tr>\n",
       "      <th>4</th>\n",
       "      <td>16.0</td>\n",
       "      <td>303.0</td>\n",
       "      <td>70.0</td>\n",
       "      <td>151.0</td>\n",
       "      <td>565.0</td>\n",
       "      <td>2.0</td>\n",
       "    </tr>\n",
       "    <tr>\n",
       "      <th>5</th>\n",
       "      <td>44.0</td>\n",
       "      <td>0.0</td>\n",
       "      <td>483.0</td>\n",
       "      <td>0.0</td>\n",
       "      <td>291.0</td>\n",
       "      <td>0.0</td>\n",
       "    </tr>\n",
       "    <tr>\n",
       "      <th>6</th>\n",
       "      <td>26.0</td>\n",
       "      <td>42.0</td>\n",
       "      <td>1539.0</td>\n",
       "      <td>3.0</td>\n",
       "      <td>0.0</td>\n",
       "      <td>0.0</td>\n",
       "    </tr>\n",
       "    <tr>\n",
       "      <th>7</th>\n",
       "      <td>28.0</td>\n",
       "      <td>0.0</td>\n",
       "      <td>0.0</td>\n",
       "      <td>0.0</td>\n",
       "      <td>0.0</td>\n",
       "      <td>NaN</td>\n",
       "    </tr>\n",
       "    <tr>\n",
       "      <th>8</th>\n",
       "      <td>35.0</td>\n",
       "      <td>0.0</td>\n",
       "      <td>785.0</td>\n",
       "      <td>17.0</td>\n",
       "      <td>216.0</td>\n",
       "      <td>0.0</td>\n",
       "    </tr>\n",
       "    <tr>\n",
       "      <th>9</th>\n",
       "      <td>14.0</td>\n",
       "      <td>0.0</td>\n",
       "      <td>0.0</td>\n",
       "      <td>0.0</td>\n",
       "      <td>0.0</td>\n",
       "      <td>0.0</td>\n",
       "    </tr>\n",
       "  </tbody>\n",
       "</table>\n",
       "</div>"
      ],
      "text/plain": [
       "    Age  RoomService  FoodCourt  ShoppingMall     Spa  VRDeck\n",
       "0  39.0          0.0        0.0           0.0     0.0     0.0\n",
       "1  24.0        109.0        9.0          25.0   549.0    44.0\n",
       "2  58.0         43.0     3576.0           0.0  6715.0    49.0\n",
       "3  33.0          0.0     1283.0         371.0  3329.0   193.0\n",
       "4  16.0        303.0       70.0         151.0   565.0     2.0\n",
       "5  44.0          0.0      483.0           0.0   291.0     0.0\n",
       "6  26.0         42.0     1539.0           3.0     0.0     0.0\n",
       "7  28.0          0.0        0.0           0.0     0.0     NaN\n",
       "8  35.0          0.0      785.0          17.0   216.0     0.0\n",
       "9  14.0          0.0        0.0           0.0     0.0     0.0"
      ]
     },
     "execution_count": 10,
     "metadata": {},
     "output_type": "execute_result"
    }
   ],
   "source": [
    "df.head(10)"
   ]
  },
  {
   "cell_type": "code",
   "execution_count": 11,
   "id": "0fcff285",
   "metadata": {},
   "outputs": [
    {
     "data": {
      "text/plain": [
       "Age             179\n",
       "RoomService     181\n",
       "FoodCourt       183\n",
       "ShoppingMall    208\n",
       "Spa             183\n",
       "VRDeck          188\n",
       "dtype: int64"
      ]
     },
     "execution_count": 11,
     "metadata": {},
     "output_type": "execute_result"
    }
   ],
   "source": [
    "df.isnull().sum()"
   ]
  },
  {
   "cell_type": "code",
   "execution_count": 12,
   "id": "c81da68d",
   "metadata": {},
   "outputs": [
    {
     "name": "stdout",
     "output_type": "stream",
     "text": [
      "<class 'pandas.core.frame.DataFrame'>\n",
      "RangeIndex: 8693 entries, 0 to 8692\n",
      "Data columns (total 6 columns):\n",
      " #   Column        Non-Null Count  Dtype  \n",
      "---  ------        --------------  -----  \n",
      " 0   Age           8514 non-null   float64\n",
      " 1   RoomService   8512 non-null   float64\n",
      " 2   FoodCourt     8510 non-null   float64\n",
      " 3   ShoppingMall  8485 non-null   float64\n",
      " 4   Spa           8510 non-null   float64\n",
      " 5   VRDeck        8505 non-null   float64\n",
      "dtypes: float64(6)\n",
      "memory usage: 407.6 KB\n"
     ]
    }
   ],
   "source": [
    "df.info()"
   ]
  },
  {
   "cell_type": "code",
   "execution_count": null,
   "id": "267c5853",
   "metadata": {},
   "outputs": [],
   "source": []
  }
 ],
 "metadata": {
  "kernelspec": {
   "display_name": "Python 3 (ipykernel)",
   "language": "python",
   "name": "python3"
  },
  "language_info": {
   "codemirror_mode": {
    "name": "ipython",
    "version": 3
   },
   "file_extension": ".py",
   "mimetype": "text/x-python",
   "name": "python",
   "nbconvert_exporter": "python",
   "pygments_lexer": "ipython3",
   "version": "3.11.4"
  }
 },
 "nbformat": 4,
 "nbformat_minor": 5
}
