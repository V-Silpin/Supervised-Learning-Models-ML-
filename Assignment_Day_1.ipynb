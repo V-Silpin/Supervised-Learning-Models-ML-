{
 "cells": [
  {
   "cell_type": "markdown",
   "metadata": {
    "id": "eb_MDj6-0gbe",
    "tags": []
   },
   "source": [
    "# **Day 1**\n"
   ]
  },
  {
   "cell_type": "markdown",
   "metadata": {
    "id": "P9IK2PcN0qUs",
    "tags": []
   },
   "source": [
    "**1. Write a program to find pair of elements in a list whose sum is equal to x (input given by the user). Take the list elements from the user. Check for NaN values in the list. If present show a message to the user. (interview question)**"
   ]
  },
  {
   "cell_type": "code",
   "execution_count": 22,
   "metadata": {
    "id": "9wWqFyg-0_FL",
    "tags": []
   },
   "outputs": [
    {
     "name": "stdin",
     "output_type": "stream",
     "text": [
      "Enter the list elements :-  2 5 r 6 g 8 9 3 1 4 7\n",
      "Enter a number =  12\n"
     ]
    },
    {
     "name": "stdout",
     "output_type": "stream",
     "text": [
      "5 7\n",
      "r is NaN\n",
      "g is NaN\n",
      "8 4\n",
      "9 3\n"
     ]
    }
   ],
   "source": [
    "arr=input(\"Enter the list elements :- \").split(' ')\n",
    "sm=int(input(\"Enter a number = \"))\n",
    "for i in range(len(arr)):\n",
    "    if arr[i].isdigit():\n",
    "        for j in range(i+1,len(arr)):\n",
    "            if arr[j].isdigit():\n",
    "                if eval(f'{arr[i]}+{arr[j]}') == sm:\n",
    "                    print(arr[i],arr[j])\n",
    "    if not(arr[i].isdigit()):\n",
    "        print(f\"{arr[i]} is NaN\")"
   ]
  },
  {
   "cell_type": "markdown",
   "metadata": {
    "id": "gGVUBvHO31_i"
   },
   "source": [
    "**2. Find the factorial of the number with recursion and without recursion, making individual function for each of them.**"
   ]
  },
  {
   "cell_type": "code",
   "execution_count": 8,
   "metadata": {
    "id": "7n6UYZdo4AsK",
    "tags": []
   },
   "outputs": [],
   "source": [
    "def factrec(n):\n",
    "    if n != 0:\n",
    "        return n*factrec(n-1)\n",
    "    if n == 0:\n",
    "        return 1\n",
    "def factnon(n):\n",
    "    m=1\n",
    "    for i in range(1,n):\n",
    "        m*=i\n",
    "    return m"
   ]
  },
  {
   "cell_type": "markdown",
   "metadata": {
    "id": "617He0Wd4Hic"
   },
   "source": [
    "**3. Write a program to create a 4-digit OTP using `random` methods.**"
   ]
  },
  {
   "cell_type": "code",
   "execution_count": 12,
   "metadata": {
    "id": "sGpXWAf54fxC"
   },
   "outputs": [
    {
     "name": "stdout",
     "output_type": "stream",
     "text": [
      "OTP = 2389\n"
     ]
    }
   ],
   "source": [
    "import random\n",
    "def OTP():\n",
    "    return random.randrange(48,58)\n",
    "\n",
    "otp=''\n",
    "for i in range(4):\n",
    "    otp+=chr(OTP())\n",
    "print(f'OTP = {otp}')"
   ]
  },
  {
   "cell_type": "markdown",
   "metadata": {
    "id": "yRbWkjNV4rmA"
   },
   "source": [
    "**4. Write a user defined function to swap 2 numbers without using a third variable and return the new numbers**"
   ]
  },
  {
   "cell_type": "code",
   "execution_count": 13,
   "metadata": {
    "id": "AH8m2s9D5EyS",
    "tags": []
   },
   "outputs": [
    {
     "name": "stdin",
     "output_type": "stream",
     "text": [
      "Enter no. for a =  47\n",
      "Enter no. for b =  83\n"
     ]
    },
    {
     "name": "stdout",
     "output_type": "stream",
     "text": [
      "Before Swapping\n",
      "a = 47\n",
      "b = 83\n",
      "After Swapping\n",
      "a = 83\n",
      "b = 47\n"
     ]
    }
   ],
   "source": [
    "def swapnum():\n",
    "    global a,b\n",
    "    a+=b\n",
    "    b=a-b\n",
    "    a=a-b\n",
    "a=int(input(\"Enter no. for a = \"))\n",
    "b=int(input(\"Enter no. for b = \"))\n",
    "print(f\"Before Swapping\\na = {a}\\nb = {b}\")\n",
    "swapnum()\n",
    "print(f\"After Swapping\\na = {a}\\nb = {b}\")"
   ]
  },
  {
   "cell_type": "markdown",
   "metadata": {
    "id": "JstAWeGL5HUW",
    "tags": []
   },
   "source": [
    "**5. Create 2 dictionaries. If the user enters birth month in number, it will return birth month in string.** For example:\n",
    "\n",
    "Input: `8`\n",
    "\n",
    "Output: `August`"
   ]
  },
  {
   "cell_type": "code",
   "execution_count": 14,
   "metadata": {
    "id": "KL3WSNE76FE7"
   },
   "outputs": [
    {
     "name": "stdin",
     "output_type": "stream",
     "text": [
      "Input:  8\n"
     ]
    },
    {
     "name": "stdout",
     "output_type": "stream",
     "text": [
      "Output: August\n"
     ]
    }
   ],
   "source": [
    "a={1:\"January\", 2:\"February\", 3:\"March\", 4:\"April\", 5:\"May\", 6:\"June\", 7:\"July\", 8:\"August\", 9:\"September\", 10:\"October\", 11:\"November\", 12:\"December\"}\n",
    "u=int(input(\"Input: \"))\n",
    "print(f\"Output: {a[u]}\")"
   ]
  },
  {
   "cell_type": "markdown",
   "metadata": {
    "id": "5hL7-3eU6WAt"
   },
   "source": [
    "**6. Write a program to find the dot product of two vectors using `numpy` methods.**"
   ]
  },
  {
   "cell_type": "code",
   "execution_count": 18,
   "metadata": {
    "id": "UEwp1MxS7Nxb"
   },
   "outputs": [
    {
     "name": "stdin",
     "output_type": "stream",
     "text": [
      "Enter elements for vector x =  2 4 6\n",
      "Enter elements for vector y =  1 3 5\n"
     ]
    },
    {
     "name": "stdout",
     "output_type": "stream",
     "text": [
      "Dot Product = 44\n"
     ]
    }
   ],
   "source": [
    "import numpy as np\n",
    "x=list(map(int,input(\"Enter elements for vector x = \").split()))\n",
    "y=list(map(int,input(\"Enter elements for vector y = \").split()))\n",
    "x=np.array(x)\n",
    "y=np.array(y)\n",
    "z=np.dot(x,y)\n",
    "print(f\"Dot Product = {z}\")"
   ]
  },
  {
   "cell_type": "markdown",
   "metadata": {
    "id": "z4_qg4QJ7UPT"
   },
   "source": [
    "**7. Write a program to make two arrays of shape (1, 20) and (5, 4) respectively and reshape both of them into (2, 10) array using numpy.**"
   ]
  },
  {
   "cell_type": "code",
   "execution_count": 26,
   "metadata": {
    "id": "-U2byMH77-aj"
   },
   "outputs": [
    {
     "name": "stdout",
     "output_type": "stream",
     "text": [
      "Array p (1x20) = \n",
      "[[1 1 1 1 1 1 1 1 1 1 1 1 1 1 1 1 1 1 1 1]]\n",
      "\n",
      "Array q (5x4) = \n",
      "[[1 1 1 1]\n",
      " [1 1 1 1]\n",
      " [1 1 1 1]\n",
      " [1 1 1 1]\n",
      " [1 1 1 1]]\n",
      "\n",
      "Array p (2x10) = \n",
      "[[1 1 1 1 1 1 1 1 1 1]\n",
      " [1 1 1 1 1 1 1 1 1 1]]\n",
      "\n",
      "Array q (2x10) = \n",
      "[[1 1 1 1 1 1 1 1 1 1]\n",
      " [1 1 1 1 1 1 1 1 1 1]]\n",
      "\n"
     ]
    }
   ],
   "source": [
    "import numpy as np\n",
    "p=np.full((1,20),1)\n",
    "q=np.full((5,4),1)\n",
    "print(f\"Array p (1x20) = \\n{p}\\n\")\n",
    "print(f\"Array q (5x4) = \\n{q}\\n\")\n",
    "p=p.reshape((2, 10))\n",
    "q=q.reshape((2, 10))\n",
    "print(f\"Array p (2x10) = \\n{p}\\n\")\n",
    "print(f\"Array q (2x10) = \\n{q}\\n\")"
   ]
  },
  {
   "cell_type": "markdown",
   "metadata": {
    "id": "JT9-9BiI8A4k"
   },
   "source": [
    "**8.Find the mean, median, mode, standard deviation, and transpose of an numpy array.**"
   ]
  },
  {
   "cell_type": "code",
   "execution_count": 37,
   "metadata": {
    "id": "yKVEBVyd8eFP"
   },
   "outputs": [
    {
     "name": "stdin",
     "output_type": "stream",
     "text": [
      "Enter elements for array c =  2 6 3 8 4 9 7\n"
     ]
    },
    {
     "name": "stdout",
     "output_type": "stream",
     "text": [
      "Array = [[2 6 3 8 4 9 7]]\n",
      "Mean = 5.571428571428571\n",
      "Median = 6.0\n",
      "Standard Deviation = 2.4411439272335804\n",
      "Transpose = \n",
      "[[2]\n",
      " [6]\n",
      " [3]\n",
      " [8]\n",
      " [4]\n",
      " [9]\n",
      " [7]]\n"
     ]
    }
   ],
   "source": [
    "import numpy as np\n",
    "c=list(map(int,input(\"Enter elements for array c = \").split()))\n",
    "c=np.array([c])\n",
    "me=np.mean(c)\n",
    "mo=np.median(c)\n",
    "sd=np.std(c)\n",
    "tp=np.transpose(c)\n",
    "print(f\"Array = {c}\\nMean = {me}\\nMedian = {mo}\\nStandard Deviation = {sd}\\nTranspose = \\n{tp}\")"
   ]
  },
  {
   "cell_type": "markdown",
   "metadata": {
    "id": "Q3AWC7Vv-TdM"
   },
   "source": [
    "**9. Find the cross product of two 2D numpy arrays using python.**"
   ]
  },
  {
   "cell_type": "code",
   "execution_count": 43,
   "metadata": {
    "id": "3GVE-Oz4-S25"
   },
   "outputs": [
    {
     "name": "stdin",
     "output_type": "stream",
     "text": [
      "Enter 2D array shape =  2 2\n",
      "Enter elements for index 0 =  1 3\n",
      "Enter elements for index 1 =  4 6\n",
      "Enter 2D array shape =  2 2\n",
      "Enter elements for index 0 =  5 7\n",
      "Enter elements for index 1 =  8 9\n"
     ]
    },
    {
     "name": "stdout",
     "output_type": "stream",
     "text": [
      "Cross Product = [ -8 -12]\n"
     ]
    }
   ],
   "source": [
    "import numpy as np\n",
    "def tdarr():\n",
    "    a=tuple(map(int,input(\"Enter 2D array shape = \").split()))\n",
    "    b=[]\n",
    "    c=[]\n",
    "    for i in range(a[1]):\n",
    "        c=list(map(int,input(f\"Enter elements for index {i} = \").split()))\n",
    "        b.append(c)\n",
    "    return b\n",
    "r1=np.array(tdarr())\n",
    "r2=np.array(tdarr())\n",
    "r3=np.cross(r1,r2)\n",
    "print(f\"Cross Product = {r3}\")"
   ]
  },
  {
   "cell_type": "markdown",
   "metadata": {
    "id": "XlearvBd8gFY"
   },
   "source": [
    "**10. Write a game to implement rock papers scissors in python, where the user will play against the computer. The code will ask for user input (rock, paper, scissor), and the computer will randomly give an output. Also calculate the points at the end of 5 rounds.**"
   ]
  },
  {
   "cell_type": "code",
   "execution_count": 8,
   "metadata": {
    "id": "Y3pcpCXH922o"
   },
   "outputs": [
    {
     "name": "stdout",
     "output_type": "stream",
     "text": [
      "\n",
      "Rock     = R\n",
      "Paper    = P\n",
      "Scissors = S\n",
      "\n",
      "Round 1\n"
     ]
    },
    {
     "name": "stdin",
     "output_type": "stream",
     "text": [
      "Enter move :-  R\n"
     ]
    },
    {
     "name": "stdout",
     "output_type": "stream",
     "text": [
      "AI's move :- S\n",
      "\n",
      "Player Wins\n",
      "\n",
      "Round 2\n"
     ]
    },
    {
     "name": "stdin",
     "output_type": "stream",
     "text": [
      "Enter move :-  P\n"
     ]
    },
    {
     "name": "stdout",
     "output_type": "stream",
     "text": [
      "AI's move :- P\n",
      "\n",
      "Tie\n",
      "\n",
      "Round 3\n"
     ]
    },
    {
     "name": "stdin",
     "output_type": "stream",
     "text": [
      "Enter move :-  P\n"
     ]
    },
    {
     "name": "stdout",
     "output_type": "stream",
     "text": [
      "AI's move :- S\n",
      "\n",
      "AI Wins\n",
      "\n",
      "Round 4\n"
     ]
    },
    {
     "name": "stdin",
     "output_type": "stream",
     "text": [
      "Enter move :-  S\n"
     ]
    },
    {
     "name": "stdout",
     "output_type": "stream",
     "text": [
      "AI's move :- P\n",
      "\n",
      "Player Wins\n",
      "\n",
      "Round 5\n"
     ]
    },
    {
     "name": "stdin",
     "output_type": "stream",
     "text": [
      "Enter move :-  R\n"
     ]
    },
    {
     "name": "stdout",
     "output_type": "stream",
     "text": [
      "AI's move :- R\n",
      "\n",
      "Tie\n",
      "\n",
      "GAME OVER\n",
      "\n",
      "_FINAL_SCORE_\n",
      "\n",
      "PLAYER\tAI\n",
      "2\t1\n",
      "\n",
      "YOU ARE VICTORIOUS\n"
     ]
    }
   ],
   "source": [
    "import random as R\n",
    "\n",
    "ply=0\n",
    "ai=0\n",
    "aim=''\n",
    "ch=(\"R\",\"P\",\"S\")\n",
    "it={\"RR\":0, \"RS\":1, \"RP\":-1, \"SR\":-1, \"SS\":0, \"SP\":1, \"PR\":1, \"PS\":-1, \"PP\":0}\n",
    "wl={-1:\"\\nAI Wins\",0:\"\\nTie\",1:\"\\nPlayer Wins\"}\n",
    "i=0\n",
    "\n",
    "def points(str,str1):\n",
    "    global ply,ai\n",
    "    a=str+str1\n",
    "    if it[a] > 0:\n",
    "        ply+=it[a]\n",
    "    if it[a] < 0:\n",
    "        ai+=(it[a]*(-1))\n",
    "    print(wl[it[a]])\n",
    "    \n",
    "print('\\nRock     = R\\nPaper    = P\\nScissors = S')\n",
    "    \n",
    "while i < 5:\n",
    "    print(f\"\\nRound {i+1}\")\n",
    "    a=input(\"Enter move :- \")\n",
    "    if a not in ch:\n",
    "        print(\"Enter a Valid Choice\")\n",
    "        i-=1\n",
    "    else:\n",
    "        aim=R.choice(ch)\n",
    "        print(f\"AI's move :- {aim}\")\n",
    "        points(a,aim)\n",
    "        i+=1\n",
    "\n",
    "print(\"\\nGAME OVER\\n\\n_FINAL_SCORE_\")\n",
    "print(f\"\\nPLAYER\\tAI\\n{ply}\\t{ai}\")\n",
    "\n",
    "if ply > ai: print(\"\\nYOU ARE VICTORIOUS\")\n",
    "else: print(\"\\nYOU LOSE\")"
   ]
  },
  {
   "cell_type": "code",
   "execution_count": null,
   "metadata": {},
   "outputs": [],
   "source": []
  }
 ],
 "metadata": {
  "colab": {
   "provenance": []
  },
  "kernelspec": {
   "display_name": "Python 3 (ipykernel)",
   "language": "python",
   "name": "python3"
  },
  "language_info": {
   "codemirror_mode": {
    "name": "ipython",
    "version": 3
   },
   "file_extension": ".py",
   "mimetype": "text/x-python",
   "name": "python",
   "nbconvert_exporter": "python",
   "pygments_lexer": "ipython3",
   "version": "3.11.4"
  }
 },
 "nbformat": 4,
 "nbformat_minor": 4
}
