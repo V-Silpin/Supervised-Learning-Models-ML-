{
 "cells": [
  {
   "cell_type": "code",
   "execution_count": 1,
   "id": "e9a46582-e306-4d1e-9cb1-76c327d5fb74",
   "metadata": {
    "tags": []
   },
   "outputs": [],
   "source": [
    "#Clustering\n",
    "import numpy as np\n",
    "import pandas as pd\n",
    "import matplotlib as mb"
   ]
  },
  {
   "cell_type": "code",
   "execution_count": 2,
   "id": "e252e8a0-92c5-4ca1-a551-97a9e89d0047",
   "metadata": {
    "tags": []
   },
   "outputs": [],
   "source": [
    "df = pd.read_csv(\"iris.csv\")"
   ]
  },
  {
   "cell_type": "code",
   "execution_count": null,
   "id": "6e2bd2eb-20da-4aa0-8cba-6d0478278d3e",
   "metadata": {},
   "outputs": [],
   "source": [
    "#K Number of nearest numbers"
   ]
  }
 ],
 "metadata": {
  "kernelspec": {
   "display_name": "Python 3 (ipykernel)",
   "language": "python",
   "name": "python3"
  },
  "language_info": {
   "codemirror_mode": {
    "name": "ipython",
    "version": 3
   },
   "file_extension": ".py",
   "mimetype": "text/x-python",
   "name": "python",
   "nbconvert_exporter": "python",
   "pygments_lexer": "ipython3",
   "version": "3.11.4"
  }
 },
 "nbformat": 4,
 "nbformat_minor": 5
}
