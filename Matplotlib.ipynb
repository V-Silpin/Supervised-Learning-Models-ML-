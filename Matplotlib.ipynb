{
 "cells": [
  {
   "cell_type": "code",
   "execution_count": 2,
   "id": "294e96ef-b204-4730-a72f-51e240c6d5e1",
   "metadata": {
    "tags": []
   },
   "outputs": [],
   "source": [
    "import matplotlib as M"
   ]
  },
  {
   "cell_type": "code",
   "execution_count": null,
   "id": "e28c2cc9-6d8b-4b2a-b699-f46b8c62d030",
   "metadata": {},
   "outputs": [],
   "source": [
    "# figsize\n",
    "# dpi\n",
    "# savefig\n",
    "# Scatter Plot\n",
    "# Histograms\n",
    "# Boxplots\n",
    "# Datapreprocessing (readable for training model)\n",
    "# Ensemble Learning"
   ]
  }
 ],
 "metadata": {
  "kernelspec": {
   "display_name": "Python 3 (ipykernel)",
   "language": "python",
   "name": "python3"
  },
  "language_info": {
   "codemirror_mode": {
    "name": "ipython",
    "version": 3
   },
   "file_extension": ".py",
   "mimetype": "text/x-python",
   "name": "python",
   "nbconvert_exporter": "python",
   "pygments_lexer": "ipython3",
   "version": "3.11.4"
  }
 },
 "nbformat": 4,
 "nbformat_minor": 5
}
