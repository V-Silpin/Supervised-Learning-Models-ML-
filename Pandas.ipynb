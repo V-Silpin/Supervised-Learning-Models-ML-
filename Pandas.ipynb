{
 "cells": [
  {
   "cell_type": "code",
   "execution_count": 3,
   "id": "58fdf0db-240a-4077-a62f-e51ea748a67e",
   "metadata": {
    "tags": []
   },
   "outputs": [],
   "source": [
    "import pandas as pd"
   ]
  },
  {
   "cell_type": "code",
   "execution_count": null,
   "id": "358c9955-2a01-41ea-ad08-7b7c1fc69af4",
   "metadata": {},
   "outputs": [],
   "source": [
    "file = \"file.csv\"\n",
    "f = pd.read_csv(file)\n",
    "\n",
    "sym = \"|\"\n",
    "f = pd.read_csv(file, sep = sym)"
   ]
  },
  {
   "cell_type": "code",
   "execution_count": null,
   "id": "c74f3b3d-e373-48c3-a008-155277462b8f",
   "metadata": {},
   "outputs": [],
   "source": [
    "# info()\n",
    "# describe()\n",
    "# iloc()\n",
    "# loc()\n",
    "# Datapreprocessing (readable for training model)\n",
    "# dropna\n",
    "# fillna"
   ]
  }
 ],
 "metadata": {
  "kernelspec": {
   "display_name": "Python 3 (ipykernel)",
   "language": "python",
   "name": "python3"
  },
  "language_info": {
   "codemirror_mode": {
    "name": "ipython",
    "version": 3
   },
   "file_extension": ".py",
   "mimetype": "text/x-python",
   "name": "python",
   "nbconvert_exporter": "python",
   "pygments_lexer": "ipython3",
   "version": "3.11.4"
  }
 },
 "nbformat": 4,
 "nbformat_minor": 5
}
