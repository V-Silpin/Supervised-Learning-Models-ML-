{
 "cells": [
  {
   "cell_type": "code",
   "execution_count": 1,
   "id": "67c17d2e-4b37-4107-a783-06cb381e701b",
   "metadata": {
    "tags": []
   },
   "outputs": [],
   "source": [
    "import numpy as np"
   ]
  },
  {
   "cell_type": "code",
   "execution_count": 2,
   "id": "ade0a751-e9dd-4513-831b-734d80862ab3",
   "metadata": {
    "tags": []
   },
   "outputs": [],
   "source": [
    "#Converting Python sequences to NumPy Arrays\n",
    "a0=np.array([1,2,3,4])\n",
    "a1=np.array([[1,2],[3,4]])\n",
    "a2=np.array([[[1,2],[3,4]],[[5,6],[7,8]]])"
   ]
  },
  {
   "cell_type": "code",
   "execution_count": 3,
   "id": "977730f6-4a63-4276-8080-34ffe9c45619",
   "metadata": {
    "tags": []
   },
   "outputs": [
    {
     "data": {
      "text/plain": [
       "array([1, 2, 3, 4])"
      ]
     },
     "execution_count": 3,
     "metadata": {},
     "output_type": "execute_result"
    }
   ],
   "source": [
    "a0"
   ]
  },
  {
   "cell_type": "code",
   "execution_count": 4,
   "id": "8b603cdd-9f92-4c81-a251-ac53d5e819d6",
   "metadata": {
    "tags": []
   },
   "outputs": [
    {
     "data": {
      "text/plain": [
       "array([[1, 2],\n",
       "       [3, 4]])"
      ]
     },
     "execution_count": 4,
     "metadata": {},
     "output_type": "execute_result"
    }
   ],
   "source": [
    "a1"
   ]
  },
  {
   "cell_type": "code",
   "execution_count": 5,
   "id": "5122d998-a057-43de-9fa6-dd110201b01b",
   "metadata": {
    "tags": []
   },
   "outputs": [
    {
     "data": {
      "text/plain": [
       "array([[[1, 2],\n",
       "        [3, 4]],\n",
       "\n",
       "       [[5, 6],\n",
       "        [7, 8]]])"
      ]
     },
     "execution_count": 5,
     "metadata": {},
     "output_type": "execute_result"
    }
   ],
   "source": [
    "a2"
   ]
  },
  {
   "cell_type": "code",
   "execution_count": 6,
   "id": "7e36bbbb-f084-4e68-92b9-4cae6e201794",
   "metadata": {
    "tags": []
   },
   "outputs": [],
   "source": [
    "a=np.array([127,128,129], dtype=np.int8)"
   ]
  },
  {
   "cell_type": "code",
   "execution_count": 7,
   "id": "427ec3f2-4985-4a02-8a62-fb632570452e",
   "metadata": {
    "tags": []
   },
   "outputs": [
    {
     "data": {
      "text/plain": [
       "array([ 127, -128, -127], dtype=int8)"
      ]
     },
     "execution_count": 7,
     "metadata": {},
     "output_type": "execute_result"
    }
   ],
   "source": [
    "a"
   ]
  },
  {
   "cell_type": "code",
   "execution_count": 8,
   "id": "c10d408b-fbe7-4999-be23-13294b91d5d3",
   "metadata": {
    "tags": []
   },
   "outputs": [],
   "source": [
    "a = np.array([2, 3, 4], dtype=np.uint32)\n",
    "b = np.array([5, 6, 7], dtype=np.uint32)\n",
    "c_unsigned32 = a - b"
   ]
  },
  {
   "cell_type": "code",
   "execution_count": 9,
   "id": "e76fc68c-222d-4490-ae2a-76789022aeed",
   "metadata": {
    "tags": []
   },
   "outputs": [
    {
     "name": "stdout",
     "output_type": "stream",
     "text": [
      "unsigned c: [4294967293 4294967293 4294967293] uint32\n"
     ]
    }
   ],
   "source": [
    "print('unsigned c:', c_unsigned32, c_unsigned32.dtype)"
   ]
  },
  {
   "cell_type": "code",
   "execution_count": 10,
   "id": "ff634568-32c0-45cb-80b1-ed2394c2bdec",
   "metadata": {
    "tags": []
   },
   "outputs": [],
   "source": [
    "c_signed32 = a - b.astype(np.int32)"
   ]
  },
  {
   "cell_type": "code",
   "execution_count": 11,
   "id": "3ba9ccc5-7320-4269-87c6-05bb1bc5d7cc",
   "metadata": {
    "tags": []
   },
   "outputs": [
    {
     "name": "stdout",
     "output_type": "stream",
     "text": [
      "signed c: [-3 -3 -3] int64\n"
     ]
    }
   ],
   "source": [
    "print('signed c:', c_signed32, c_signed32.dtype)"
   ]
  },
  {
   "cell_type": "code",
   "execution_count": 1,
   "id": "f9281207-234e-4f02-97c2-3a3f6bb7a53d",
   "metadata": {},
   "outputs": [
    {
     "name": "stdout",
     "output_type": "stream",
     "text": [
      "Help on package flask:\n",
      "\n",
      "NAME\n",
      "    flask\n",
      "\n",
      "PACKAGE CONTENTS\n",
      "    __main__\n",
      "    app\n",
      "    blueprints\n",
      "    cli\n",
      "    config\n",
      "    ctx\n",
      "    debughelpers\n",
      "    globals\n",
      "    helpers\n",
      "    json (package)\n",
      "    logging\n",
      "    scaffold\n",
      "    sessions\n",
      "    signals\n",
      "    templating\n",
      "    testing\n",
      "    typing\n",
      "    views\n",
      "    wrappers\n",
      "\n",
      "FUNCTIONS\n",
      "    __getattr__(name)\n",
      "    \n",
      "    escape(...)\n",
      "        Replace the characters ``&``, ``<``, ``>``, ``'``, and ``\"`` in the string with HTML-safe sequences. Use this if you need to display text that might contain such characters in HTML.\n",
      "        \n",
      "        If the object has an ``__html__`` method, it is called and the return value is assumed to already be safe for HTML.\n",
      "        \n",
      "        :param s: An object to be converted to a string and escaped.\n",
      "        :return: A :class:`Markup` string with the escaped text.\n",
      "\n",
      "DATA\n",
      "    appcontext_popped = <flask.signals._FakeSignal object>\n",
      "    appcontext_pushed = <flask.signals._FakeSignal object>\n",
      "    appcontext_tearing_down = <flask.signals._FakeSignal object>\n",
      "    before_render_template = <flask.signals._FakeSignal object>\n",
      "    current_app = <LocalProxy unbound>\n",
      "    g = <LocalProxy unbound>\n",
      "    got_request_exception = <flask.signals._FakeSignal object>\n",
      "    message_flashed = <flask.signals._FakeSignal object>\n",
      "    request = <LocalProxy unbound>\n",
      "    request_finished = <flask.signals._FakeSignal object>\n",
      "    request_started = <flask.signals._FakeSignal object>\n",
      "    request_tearing_down = <flask.signals._FakeSignal object>\n",
      "    session = <LocalProxy unbound>\n",
      "    signals_available = False\n",
      "    template_rendered = <flask.signals._FakeSignal object>\n",
      "\n",
      "VERSION\n",
      "    2.2.2\n",
      "\n",
      "FILE\n",
      "    c:\\users\\kiit\\anaconda3\\lib\\site-packages\\flask\\__init__.py\n",
      "\n",
      "\n"
     ]
    }
   ],
   "source": [
    "help('flask')"
   ]
  },
  {
   "cell_type": "code",
   "execution_count": 2,
   "id": "391f99d1-0669-4186-a80d-a0ffd0a8d018",
   "metadata": {
    "tags": []
   },
   "outputs": [
    {
     "name": "stdout",
     "output_type": "stream",
     "text": [
      "No Python documentation found for 'django'.\n",
      "Use help() to get the interactive help utility.\n",
      "Use help(str) for help on the str class.\n"
     ]
    }
   ],
   "source": [
    "help('django')"
   ]
  },
  {
   "cell_type": "code",
   "execution_count": null,
   "id": "ae021eff-0830-4701-9b1b-1e405088bf8e",
   "metadata": {},
   "outputs": [],
   "source": []
  }
 ],
 "metadata": {
  "kernelspec": {
   "display_name": "Python 3 (ipykernel)",
   "language": "python",
   "name": "python3"
  },
  "language_info": {
   "codemirror_mode": {
    "name": "ipython",
    "version": 3
   },
   "file_extension": ".py",
   "mimetype": "text/x-python",
   "name": "python",
   "nbconvert_exporter": "python",
   "pygments_lexer": "ipython3",
   "version": "3.11.4"
  }
 },
 "nbformat": 4,
 "nbformat_minor": 5
}
